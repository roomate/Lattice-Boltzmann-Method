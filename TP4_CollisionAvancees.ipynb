{
 "cells": [
  {
   "cell_type": "markdown",
   "metadata": {
    "collapsed": true,
    "slideshow": {
     "slide_type": "slide"
    }
   },
   "source": [
    "<a id=\"top\" style=\"float:right;\" href=\"http://dynfluid.ensam.eu/\"><img style=\"height:120px;\" src=\"http://dynfluid.ensam.eu/uas/DYNFLUID/logoPrincipal/Logo-DynFluid-Web.png\"/></a>\n",
    "<a style=\"float:left;\" href=\"http://www.cnam.fr//\"><img style=\"height:120px;\" src=\"https://upload.wikimedia.org/wikipedia/commons/4/45/Logo_ENSTA_Paris.jpg\"></a>"
   ]
  },
  {
   "cell_type": "markdown",
   "metadata": {
    "slideshow": {
     "slide_type": "fragment"
    }
   },
   "source": [
    "<center>\n",
    "<h3 style=\"color:#888888;\"> <i>--  Introduction à la méthode de Boltzmann sur Réseau  --</i> </h3>\n",
    "<h1> TP n°4 </h1>\n",
    "<h3> Modèles de collision Avancés </h3>\n",
    "\n",
    "<h6><a href=\"mailto:simon.marie@lecnam.net\">simon.marie@lecnam.net</a></h6>\n",
    "</center>"
   ]
  },
  {
   "cell_type": "code",
   "execution_count": 64,
   "metadata": {
    "slideshow": {
     "slide_type": "skip"
    }
   },
   "outputs": [],
   "source": [
    "import numpy as np\n",
    "import matplotlib.pyplot as plt\n",
    "#from numba import jit\n",
    "import time\n",
    "fs=20\n",
    "plt.style.use('ggplot')\n",
    "plt.rc('xtick',labelsize=fs)\n",
    "plt.rc('ytick',labelsize=fs)\n",
    "%matplotlib inline"
   ]
  },
  {
   "cell_type": "markdown",
   "metadata": {},
   "source": [
    "<h1> Préambule </h1>\n",
    "\n",
    "Le TP doit être rendu sous la forme d'un Notebook jupyter en respectant la nomenclature suivante:\n",
    "<center>\n",
    "<b>TP4_NOM1_NOM2.ipynb</b>\n",
    "</center>\n",
    "\n",
    "Tous les résultats, discussions, analyses, doivent donc être inclus dans le fichier."
   ]
  },
  {
   "cell_type": "markdown",
   "metadata": {},
   "source": [
    "<h1>Présentation du TP</h1>\n",
    "\n",
    "On se propose dans ce TP de reprendre les simulations réalisées dans les TP2 et 3 et d'appliquer un modèle de collision avancé de type MRT ou régularisation (au choix). On utilisera dans ce TP le réseau de vitesse D2Q9.\n",
    "\n",
    "\n",
    "Vous pouvez donc reprendre soit le TP2: *Ecoulement dans une cavité entrainée*, soit le TP3: *Ecoulement autour d'un cylindre* en reprenant également les mêmes conditions aux limites mais en remplacant la collision par un des deux modèles avancés présentés ci-dessous.\n"
   ]
  },
  {
   "cell_type": "code",
   "execution_count": 65,
   "metadata": {},
   "outputs": [],
   "source": [
    "ca=np.array([[0,0],[1,0],[0,1],[-1,0],[0,-1],[1,1],[-1,1],[-1,-1],[1,-1]])\n",
    "w=[4./9.,1./9.,1./9.,1./9.,1./9.,1./36.,1./36.,1./36.,1./36.]\n",
    "c0=1/np.sqrt(3)"
   ]
  },
  {
   "cell_type": "markdown",
   "metadata": {},
   "source": [
    "<h2>Le modèle à temps de relaxation multiple MRT</h2>\n",
    "\n",
    "Le principe du modèle MRT est de réaliser l'étape de collision dans l'espace des moments. Pour cela il faut donc définir 9 moments indépendants. La construction de ces moments fait l'objet de nombreux articles et ne sera pas détaillé ici. On donne ici la version classique qui utilise la matrice de passage suivante pour passer des distributions aux moments: \n",
    "\n",
    "$$\n",
    "\\mathbf{M}=\\left(\n",
    "\\begin{array}{ccccccccc}\n",
    "1&1&1&1&1&1&1&1&1\\\\\n",
    "-4&-1&-1&-1&-1&2&2&2&2\\\\\n",
    "4&-2&-2&-2&-2&1&1&1&1\\\\\n",
    "0&1&0&-1&0&1&-1&-1&1\\\\\n",
    "0&-2&0&2&0&1&-1&-1&1\\\\\n",
    "0&0&1&0&-1&1&1&-1&-1\\\\\n",
    "0&0&-2&0&2&1&1&-1&-1\\\\\n",
    "0&1&-1&1&-1&0&0&0&0\\\\\n",
    "0&0&0&0&0&1&-1&1&-1\\\\\n",
    "\\end{array}\n",
    "\\right)\n",
    "$$\n",
    "\n",
    "Les moments sont donc obtenus à partir des distributions:\n",
    "\n",
    "$$\n",
    "\\mathbf{m}=\\mathbf{M}\\mathbf{g}\n",
    "$$\n",
    "\n",
    "et la partie équilibre:\n",
    "\n",
    "$$\n",
    "\\mathbf{m}^{eq}=\\mathbf{M}\\mathbf{g}^{eq}\n",
    "$$\n",
    "\n",
    "La collision devient alors:\n",
    "\n",
    "$$\n",
    "\\displaystyle{g_{\\alpha}^{coll} = g_{\\alpha} - \\mathbf{M}^{-1}\\mathbf{S}[\\mathbf{m}-\\mathbf{m}^{eq}] }\n",
    "$$\n",
    "\n",
    "Où $\\mathbf{S}$ est la matrice des temps de relaxation qui peuvent être fixés indépendemment pour chacun des moments. La littérature base le choix de ses temps de relaxation sur une optimisation de la stabilité et donne:\n",
    "\n",
    "$$\n",
    "\\displaystyle{S=\\text{diag}(0,1.05,1.1,0,1.25,0,1.25,1/\\tau_g,1/\\tau_g)}\n",
    "$$\n"
   ]
  },
  {
   "cell_type": "code",
   "execution_count": 66,
   "metadata": {},
   "outputs": [],
   "source": [
    "M=np.array([[1,1,1,1,1,1,1,1,1],[-4,-1,-1,-1,-1,2,2,2,2],[4,-2,-2,-2,-2,1,1,1,1],\n",
    "           [0,1,0,-1,0,1,-1,-1,1],[0,-2,0,2,0,1,-1,-1,1],[0,0,1,0,-1,1,1,-1,-1],\n",
    "           [0,0,-2,0,2,1,1,-1,-1],[0,1,-1,1,-1,0,0,0,0],[0,0,0,0,0,1,-1,1,-1]])"
   ]
  },
  {
   "cell_type": "code",
   "execution_count": 67,
   "metadata": {},
   "outputs": [],
   "source": [
    "\n",
    "# Maillage/Domaine\n",
    "R=5        # rayon du cylindre\n",
    "x0,y0=8*R,10*R # centre du cylindre\n",
    "nx=40*R\n",
    "ny=20*R\n",
    "\n",
    "# Taille de maille:\n",
    "dx=1/(nx)\n",
    "\n",
    "# Vitesse du son réelle à  293K:\n",
    "c0_real=330\n",
    "\n",
    "# Pas de temps:\n",
    "dt=dx/c0_real*c0\n",
    "\n",
    "# Mach:\n",
    "M0=0.3\n",
    "U0 = M0*c0\n",
    "nu = U0*(2*R)/Re #La longueur du domaine est unitaire\n",
    "taug=1/2 + nu/(c0**2)\n",
    "S=np.diag([0,1.05,1.1,0,1.25,0,1.25,1/taug,1/taug])\n",
    "N = np.linalg.inv(M)"
   ]
  },
  {
   "cell_type": "code",
   "execution_count": 68,
   "metadata": {},
   "outputs": [],
   "source": [
    "def init(M0,Re):\n",
    "    # Initialisation du domaine\n",
    "    rho = np.ones((ny,nx))\n",
    "    U0 = c0*M0\n",
    "    ux = U0*np.ones((ny,nx))\n",
    "    uy = np.zeros((ny,nx))\n",
    "    nu = U0*(2*R)/Re #La longueur du domaine est unitaire\n",
    "    taug = 1/2 + nu/(c0**2)\n",
    "    geq = np.zeros((ny,nx,9))\n",
    "    for i in range(9):\n",
    "        geq[:,:,i] = w[i]*(1 + ca[i][0]*M0*c0 + 9/2*(ca[i][0]*M0*c0)**2 - 3/2*(M0*c0)**2)\n",
    "    return geq,rho,ux,uy,taug,U0 "
   ]
  },
  {
   "cell_type": "code",
   "execution_count": 79,
   "metadata": {},
   "outputs": [],
   "source": [
    "def collide(gcoll,g,M,S):\n",
    "    m = np.zeros(9)\n",
    "    meq = np.zeros(9)\n",
    "    m = np.einsum('ij,jz->iz',np.array(M),np.array(g))\n",
    "    meq = np.einsum('ij,jz->iz',M,geq)\n",
    "    \n",
    "    gcoll[:,:,:]=g[:,:,:] - N*S*(m - meq)"
   ]
  },
  {
   "cell_type": "code",
   "execution_count": 70,
   "metadata": {},
   "outputs": [],
   "source": [
    "def eq(rho,ux,uy,geq):\n",
    "    # Mise à  jour de geq\n",
    "    for i in range(9):\n",
    "        geq[:,:,i] = w[i] * rho[:,:]*(1 + 3*(ca[i][0]*ux[:,:] + ca[i][1]*uy[:,:]) + 9/2*(ca[i][0]*ux[:,:] + ca[i][1]*uy[:,:])**2 - 3/2*(ux[:,:]**2 + uy[:,:]**2))"
   ]
  },
  {
   "cell_type": "code",
   "execution_count": 71,
   "metadata": {},
   "outputs": [],
   "source": [
    "def propagate(g,gcoll):\n",
    "    # Etape de propagation\n",
    "    g[:,:,0] = gcoll[:,:,0]\n",
    "    g[:,1:,1] = gcoll[:,:-1,1]\n",
    "    g[1:,:,2] = gcoll[:-1,:,2]\n",
    "    g[:,:-1,3] = gcoll[:,1:,3]\n",
    "    g[:-1,:,4] = gcoll[1:,:,4]\n",
    "    g[1:,1:,5] = gcoll[:-1,:-1,5]\n",
    "    g[1:,:-1,6] = gcoll[:-1,1:,6]\n",
    "    g[:-1,:-1,7] = gcoll[1:,1:,7]\n",
    "    g[:-1,1:,8] = gcoll[1:,:-1,8]"
   ]
  },
  {
   "cell_type": "code",
   "execution_count": 72,
   "metadata": {},
   "outputs": [],
   "source": [
    "def macro(g,rho,ux,uy):\n",
    "    # calcul des variables macro\n",
    "    rho[:,:] = g[:,:,0] + g[:,:,1] + g[:,:,2] + g[:,:,3] + g[:,:,4] + g[:,:,5] + g[:,:,6] + g[:,:,7] + g[:,:,8]\n",
    "    ux[:,:] = (g[:,:,1] - g[:,:,3] + g[:,:,5] - g[:,:,6] - g[:,:,7] + g[:,:,8])/rho[:,:]\n",
    "    uy[:,:] = (g[:,:,2] - g[:,:,4] + g[:,:,5] + g[:,:,6] - g[:,:,7] - g[:,:,8])/rho[:,:]"
   ]
  },
  {
   "cell_type": "code",
   "execution_count": 73,
   "metadata": {},
   "outputs": [],
   "source": [
    "def wall_slip(gcoll,g,mask):\n",
    "    # Paroi solide sur le cylindre: Bounce back avec frottement\n",
    "    g[mask==1,1] = gcoll[mask==1,3]\n",
    "    g[mask==1,2] = gcoll[mask==1,4]\n",
    "    g[mask==1,3] = gcoll[mask==1,1]\n",
    "    g[mask==1,4] = gcoll[mask==1,2]\n",
    "    g[mask==1,5] = gcoll[mask==1,7]\n",
    "    g[mask==1,6] = gcoll[mask==1,8]\n",
    "    g[mask==1,7] = gcoll[mask==1,5]\n",
    "    g[mask==1,8] = gcoll[mask==1,6]\n",
    "    "
   ]
  },
  {
   "cell_type": "code",
   "execution_count": 74,
   "metadata": {},
   "outputs": [],
   "source": [
    "def inflow(g,rho,ux,uy,M0):\n",
    "    # Conditions de vitesse au bord superieur\n",
    "    U0 = M0*c0\n",
    "    ux[:,0]= U0\n",
    "    # Macro: On impose ux et on en déduit rho_in\n",
    "    rho[:,0] = 1/(1-U0)*(2*(g[:,0,3] + g[:,0,7] + g[:,0,6]) + g[:,0,2] + g[:,0,4] + g[:,0,0])\n",
    "    \n",
    "    # Distributions: On impose les distributions inconnues avec le Bounce-Back hors equilibre \n",
    "    g[:,0,1] = g[:,0,3] + 2/3*U0*rho[:,0]\n",
    "    g[:,0,5] = g[:,0,7] + 1/6*(U0 + uy[:,0])*rho[:,0]\n",
    "    g[:,0,8] = g[:,0,6] + 1/6*(U0 - uy[:,0])*rho[:,0]"
   ]
  },
  {
   "cell_type": "code",
   "execution_count": 75,
   "metadata": {},
   "outputs": [],
   "source": [
    "def outflow(g,gcoll):\n",
    "    # Conditions de gradient nul\n",
    "    # Out\n",
    "    g[:,-1,3] = g[:,-2,3]\n",
    "    g[:,-1,6] = g[:,-2,6]\n",
    "    g[:,-1,7] = g[:,-2,7]\n",
    "    # Top\n",
    "    g[-1,:,7] = g[-2,:,7]\n",
    "    g[-1,:,4] = g[-2,:,4]\n",
    "    g[-1,:,8] = g[-2,:,8]\n",
    "    # Bottom\n",
    "    g[0,:,2] = g[1,:,2]\n",
    "    g[0,:,6] = g[1,:,6]\n",
    "    g[0,:,5] = g[1,:,5]"
   ]
  },
  {
   "cell_type": "code",
   "execution_count": 76,
   "metadata": {},
   "outputs": [],
   "source": [
    "# Nombre de Reynolds:\n",
    "Re = 10\n",
    "\n",
    "# initialisation:\n",
    "geq,rho,ux,uy,taug,U0=init(M0,Re)\n",
    "g,gcoll=geq.copy(),geq.copy()\n",
    "\n",
    "# Marquage des conditions aux limites: \n",
    "# Fluide: mask=0\n",
    "# Solide: mask=1\n",
    "mask=np.zeros((ny,nx));\n",
    "mask[y0 - R:y0 + R + 1,x0 - R] = 1\n",
    "mask[y0 - R : y0 + R + 1,x0 + R] = 1\n",
    "mask[y0 - R, x0 - R: x0 + R + 1] = 1\n",
    "mask[y0 + R + 1, x0 - R: x0 + R + 1] = 1\n"
   ]
  },
  {
   "cell_type": "code",
   "execution_count": 80,
   "metadata": {},
   "outputs": [
    {
     "ename": "ValueError",
     "evalue": "operand has more dimensions than subscripts given in einstein sum, but no '...' ellipsis provided to broadcast the extra dimensions.",
     "output_type": "error",
     "traceback": [
      "\u001b[1;31m---------------------------------------------------------------------------\u001b[0m",
      "\u001b[1;31mValueError\u001b[0m                                Traceback (most recent call last)",
      "\u001b[1;32m<ipython-input-80-6486a79eeb4b>\u001b[0m in \u001b[0;36m<module>\u001b[1;34m\u001b[0m\n\u001b[0;32m     10\u001b[0m \u001b[1;33m\u001b[0m\u001b[0m\n\u001b[0;32m     11\u001b[0m \u001b[1;32mfor\u001b[0m \u001b[0mit\u001b[0m \u001b[1;32min\u001b[0m \u001b[0mnp\u001b[0m\u001b[1;33m.\u001b[0m\u001b[0marange\u001b[0m\u001b[1;33m(\u001b[0m\u001b[0mnt\u001b[0m\u001b[1;33m)\u001b[0m\u001b[1;33m:\u001b[0m\u001b[1;33m\u001b[0m\u001b[1;33m\u001b[0m\u001b[0m\n\u001b[1;32m---> 12\u001b[1;33m     \u001b[0mcollide\u001b[0m\u001b[1;33m(\u001b[0m\u001b[0mgcoll\u001b[0m\u001b[1;33m,\u001b[0m\u001b[0mg\u001b[0m\u001b[1;33m,\u001b[0m\u001b[0mM\u001b[0m\u001b[1;33m,\u001b[0m\u001b[0mS\u001b[0m\u001b[1;33m)\u001b[0m\u001b[1;33m\u001b[0m\u001b[1;33m\u001b[0m\u001b[0m\n\u001b[0m\u001b[0;32m     13\u001b[0m     \u001b[0mpropagate\u001b[0m\u001b[1;33m(\u001b[0m\u001b[0mg\u001b[0m\u001b[1;33m,\u001b[0m\u001b[0mgcoll\u001b[0m\u001b[1;33m)\u001b[0m\u001b[1;33m\u001b[0m\u001b[1;33m\u001b[0m\u001b[0m\n\u001b[0;32m     14\u001b[0m     \u001b[0mwall_slip\u001b[0m\u001b[1;33m(\u001b[0m\u001b[0mgcoll\u001b[0m\u001b[1;33m,\u001b[0m\u001b[0mg\u001b[0m\u001b[1;33m,\u001b[0m\u001b[0mmask\u001b[0m\u001b[1;33m)\u001b[0m\u001b[1;33m\u001b[0m\u001b[1;33m\u001b[0m\u001b[0m\n",
      "\u001b[1;32m<ipython-input-79-32569c2fd82f>\u001b[0m in \u001b[0;36mcollide\u001b[1;34m(gcoll, g, M, S)\u001b[0m\n\u001b[0;32m      2\u001b[0m     \u001b[0mm\u001b[0m \u001b[1;33m=\u001b[0m \u001b[0mnp\u001b[0m\u001b[1;33m.\u001b[0m\u001b[0mzeros\u001b[0m\u001b[1;33m(\u001b[0m\u001b[1;36m9\u001b[0m\u001b[1;33m)\u001b[0m\u001b[1;33m\u001b[0m\u001b[1;33m\u001b[0m\u001b[0m\n\u001b[0;32m      3\u001b[0m     \u001b[0mmeq\u001b[0m \u001b[1;33m=\u001b[0m \u001b[0mnp\u001b[0m\u001b[1;33m.\u001b[0m\u001b[0mzeros\u001b[0m\u001b[1;33m(\u001b[0m\u001b[1;36m9\u001b[0m\u001b[1;33m)\u001b[0m\u001b[1;33m\u001b[0m\u001b[1;33m\u001b[0m\u001b[0m\n\u001b[1;32m----> 4\u001b[1;33m     \u001b[0mm\u001b[0m \u001b[1;33m=\u001b[0m \u001b[0mnp\u001b[0m\u001b[1;33m.\u001b[0m\u001b[0meinsum\u001b[0m\u001b[1;33m(\u001b[0m\u001b[1;34m'ij,jz->iz'\u001b[0m\u001b[1;33m,\u001b[0m\u001b[0mnp\u001b[0m\u001b[1;33m.\u001b[0m\u001b[0marray\u001b[0m\u001b[1;33m(\u001b[0m\u001b[0mM\u001b[0m\u001b[1;33m)\u001b[0m\u001b[1;33m,\u001b[0m\u001b[0mnp\u001b[0m\u001b[1;33m.\u001b[0m\u001b[0marray\u001b[0m\u001b[1;33m(\u001b[0m\u001b[0mg\u001b[0m\u001b[1;33m)\u001b[0m\u001b[1;33m)\u001b[0m\u001b[1;33m\u001b[0m\u001b[1;33m\u001b[0m\u001b[0m\n\u001b[0m\u001b[0;32m      5\u001b[0m     \u001b[0mmeq\u001b[0m \u001b[1;33m=\u001b[0m \u001b[0mnp\u001b[0m\u001b[1;33m.\u001b[0m\u001b[0meinsum\u001b[0m\u001b[1;33m(\u001b[0m\u001b[1;34m'ij,jz->iz'\u001b[0m\u001b[1;33m,\u001b[0m\u001b[0mM\u001b[0m\u001b[1;33m,\u001b[0m\u001b[0mgeq\u001b[0m\u001b[1;33m)\u001b[0m\u001b[1;33m\u001b[0m\u001b[1;33m\u001b[0m\u001b[0m\n\u001b[0;32m      6\u001b[0m \u001b[1;33m\u001b[0m\u001b[0m\n",
      "\u001b[1;32m<__array_function__ internals>\u001b[0m in \u001b[0;36meinsum\u001b[1;34m(*args, **kwargs)\u001b[0m\n",
      "\u001b[1;32m~\\anaconda3\\lib\\site-packages\\numpy\\core\\einsumfunc.py\u001b[0m in \u001b[0;36meinsum\u001b[1;34m(out, optimize, *operands, **kwargs)\u001b[0m\n\u001b[0;32m   1348\u001b[0m         \u001b[1;32mif\u001b[0m \u001b[0mspecified_out\u001b[0m\u001b[1;33m:\u001b[0m\u001b[1;33m\u001b[0m\u001b[1;33m\u001b[0m\u001b[0m\n\u001b[0;32m   1349\u001b[0m             \u001b[0mkwargs\u001b[0m\u001b[1;33m[\u001b[0m\u001b[1;34m'out'\u001b[0m\u001b[1;33m]\u001b[0m \u001b[1;33m=\u001b[0m \u001b[0mout\u001b[0m\u001b[1;33m\u001b[0m\u001b[1;33m\u001b[0m\u001b[0m\n\u001b[1;32m-> 1350\u001b[1;33m         \u001b[1;32mreturn\u001b[0m \u001b[0mc_einsum\u001b[0m\u001b[1;33m(\u001b[0m\u001b[1;33m*\u001b[0m\u001b[0moperands\u001b[0m\u001b[1;33m,\u001b[0m \u001b[1;33m**\u001b[0m\u001b[0mkwargs\u001b[0m\u001b[1;33m)\u001b[0m\u001b[1;33m\u001b[0m\u001b[1;33m\u001b[0m\u001b[0m\n\u001b[0m\u001b[0;32m   1351\u001b[0m \u001b[1;33m\u001b[0m\u001b[0m\n\u001b[0;32m   1352\u001b[0m     \u001b[1;31m# Check the kwargs to avoid a more cryptic error later, without having to\u001b[0m\u001b[1;33m\u001b[0m\u001b[1;33m\u001b[0m\u001b[1;33m\u001b[0m\u001b[0m\n",
      "\u001b[1;31mValueError\u001b[0m: operand has more dimensions than subscripts given in einstein sum, but no '...' ellipsis provided to broadcast the extra dimensions."
     ]
    }
   ],
   "source": [
    "nt=8000\n",
    "Cd=np.zeros(nt)\n",
    "start=time.time()\n",
    "# Nombre de Reynolds:\n",
    "Re = 80\n",
    "\n",
    "# initialisation:\n",
    "geq,rho,ux,uy,taug,U0=init(M0,Re)\n",
    "g,gcoll=geq.copy(),geq.copy()\n",
    "\n",
    "for it in np.arange(nt):\n",
    "    collide(gcoll,g,M,S)\n",
    "    propagate(g,gcoll)\n",
    "    wall_slip(gcoll,g,mask)\n",
    "    inflow(g,rho,ux,uy,M0)\n",
    "    outflow(g,gcoll)\n",
    "    macro(g,rho,ux,uy)\n",
    "    eq(rho,ux,uy,geq)\n",
    "    Cd[it] = dragcoeff(rho,mask,M0)\n",
    "tcal=time.time()-start\n",
    "mlups=nx*ny*1e-6*nt/tcal\n",
    "print(str(nt)+\" itérations en \"+str(tcal)+\"s: Performances: \"+str(mlups)+\"  MLUPS\")"
   ]
  },
  {
   "cell_type": "markdown",
   "metadata": {},
   "source": [
    "<h2>Le modèle régularisé</h2>\n",
    "\n",
    "Le principe du modèle régularisé est de reconstruire la partie hors équilibre en utilisant une estimation à l'aide du tenseur de cisaillement $S_{ij}$ calculé à l'ordre 2 par différences finies:\n",
    "\n",
    "$$      \n",
    "\\displaystyle{g_\\alpha^{heq}=-\\dfrac{\\omega_\\alpha \\rho \\tau_g \\Delta t}{c_0^2}H_{ij}S_{ij}} \n",
    "$$\n",
    "\n",
    "\n",
    "**Attention** ici il y a bien sommation sur i et j: $H_{ij}S_{ij}=H_{11}S_{11}+H_{12}S_{12}+H_{21}S_{21}+H_{22}S_{22}$.\n",
    "\n",
    "Avec:\n",
    "\n",
    "$$\n",
    "H_{ij}=c_{\\alpha,i}c_{\\alpha,j}-c_0^2 \\delta_{ij}\n",
    "$$\n",
    "\n",
    "et \n",
    "\n",
    "$$\n",
    "\\displaystyle{S_{ij}=\\dfrac{1}{2}\\left( \\dfrac{\\partial u_i}{\\partial x_j}+\\dfrac{\\partial u_j}{\\partial x_i} \\right)}\n",
    "$$\n",
    "\n",
    "En remplacant $g$ par $g^{eq}+g^{heq}$, dans l'étape de collision BGK, la nouvelle collision devient:\n",
    "\n",
    "$$\n",
    "\\displaystyle{g_{\\alpha}^{coll} = g_{\\alpha}^{eq}+ \\left(1-\\dfrac{1}{\\tau_g}\\right)g_{\\alpha}^{heq}}\n",
    "$$\n",
    "\n",
    "**Note:** On pourra utiliser la fonction <a href=\"https://numpy.org/doc/stable/reference/generated/numpy.gradient.html\">*gradient*</a> de numpy pour évaluer les composante de $S_{ij}$."
   ]
  },
  {
   "cell_type": "code",
   "execution_count": null,
   "metadata": {},
   "outputs": [],
   "source": [
    "def Sij(St,ux,uy):\n",
    "    '''\n",
    "    Calcul du tenseur de cisaillement\n",
    "    '''\n",
    "    duxdx = np.gradient(ux,dx,axis = 0)\n",
    "    duxdy = np.gradient(ux,dy,axis = 1)\n",
    "    duydx = np.gradient(uy,dx,axis = 0)\n",
    "    duydy = np.gradient(uy,dy,axis = 1)\n",
    "    St[:,:,0] = duxdx\n",
    "    St[:,:,1] = 1/2*(duxdy + duydx)\n",
    "    St[:,:,2] = duydy\n",
    "    St[:,:,3] = 1/2*(duydx + duxdy)"
   ]
  },
  {
   "cell_type": "code",
   "execution_count": null,
   "metadata": {},
   "outputs": [],
   "source": [
    "H2 = np.zeros((2,2,9))\n",
    "for i in range(9):\n",
    "        H2[0,0,i] = ca[0,0]*ca[0,0] + ca[1,0]*ca[1,0] + ca[2,0]*ca[2,0] + ca[3,0]*ca[3,0] + ca[4,0]*ca[4,0] + ca[5,0]*ca[5,0] + ca[6,0]*ca[6,0] + ca[7,0]*ca[7,0] + ca[8,0]*ca[8,0] - c0**2\n",
    "        H2[0,1,i] = ca[0,0]*ca[0,1] + ca[1,0]*ca[1,1] + ca[2,0]*ca[2,1] + ca[3,0]*ca[3,1] + ca[4,0]*ca[4,1] + ca[5,0]*ca[5,1] + ca[6,0]*ca[6,1] + ca[7,0]*ca[7,1] + ca[8,0]*ca[8,1]\n",
    "        H2[1,0,i] = ca[0,0]*ca[0,1] + ca[1,0]*ca[1,1] + ca[2,0]*ca[2,1] + ca[3,0]*ca[3,1] + ca[4,0]*ca[4,1] + ca[5,0]*ca[5,1] + ca[6,0]*ca[6,1] + ca[7,0]*ca[7,1] + ca[8,0]*ca[8,1]\n",
    "        H2[1,1,i] = ca[0,1]*ca[0,1] + ca[1,1]*ca[1,1] + ca[2,1]*ca[2,1] + ca[3,1]*ca[3,1] + ca[4,1]*ca[4,1] + ca[5,1]*ca[5,1] + ca[6,1]*ca[6,1] + ca[7,1]*ca[7,1] + ca[8,1]*ca[8,1] - c0**2"
   ]
  },
  {
   "cell_type": "code",
   "execution_count": null,
   "metadata": {},
   "outputs": [],
   "source": [
    "def hors_eq(gheq,rho,St,H2):\n",
    "    '''\n",
    "    Mise a jour de la partie hors equilibre\n",
    "    '''\n",
    "    gheq[:,:,0] = -w[0]*rho[:,:]*taug*dt/c0**2*(H[1,1,0]*S[1,1,0] + H[1,2,0]*S[1,2,0] + H[2,1,0]*S[2,1,0] + H[2,2,0]*S[2,2,0])\n",
    "    gheq[:,:,1] = -w[1]*rho[:,:]*taug*dt/c0**2*(H[1,1,1]*S[1,1,1] + H[1,2,1]*S[1,2,1] + H[2,1,1]*S[2,1,1] + H[2,2,1]*S[2,2,1])\n",
    "    gheq[:,:,2] = -w[2]*rho[:,:]*taug*dt/c0**2*(H[1,1,2]*S[1,1,2] + H[1,2,2]*S[1,2,2] + H[2,1,2]*S[2,1,2] + H[2,2,2]*S[2,2,2])\n",
    "    gheq[:,:,3] = -w[3]*rho[:,:]*taug*dt/c0**2*(H[1,1,3]*S[1,1,3] + H[1,2,3]*S[1,2,3] + H[2,1,3]*S[2,1,3] + H[2,2,3]*S[2,2,3])\n",
    "    gheq[:,:,4] = -w[4]*rho[:,:]*taug*dt/c0**2*(H[1,1,4]*S[1,1,4] + H[1,2,4]*S[1,2,4] + H[2,1,4]*S[2,1,4] + H[2,2,4]*S[2,2,4])\n",
    "    gheq[:,:,5] = -w[5]*rho[:,:]*taug*dt/c0**2*(H[1,1,5]*S[1,1,5] + H[1,2,5]*S[1,2,5] + H[2,1,5]*S[2,1,5] + H[2,2,5]*S[2,2,5])\n",
    "    gheq[:,:,6] = -w[6]*rho[:,:]*taug*dt/c0**2*(H[1,1,6]*S[1,1,6] + H[1,2,6]*S[1,2,6] + H[2,1,6]*S[2,1,6] + H[2,2,6]*S[2,2,6])\n",
    "    gheq[:,:,7] = -w[7]*rho[:,:]*taug*dt/c0**2*(H[1,1,7]*S[1,1,7] + H[1,2,7]*S[1,2,7] + H[2,1,7]*S[2,1,7] + H[2,2,7]*S[2,2,7])\n",
    "    gheq[:,:,8] = -w[8]*rho[:,:]*taug*dt/c0**2*(H[1,1,8]*S[1,1,8] + H[1,2,8]*S[1,2,8] + H[2,1,8]*S[2,1,8] + H[2,2,8]*S[2,2,8])\n",
    "   "
   ]
  },
  {
   "cell_type": "code",
   "execution_count": null,
   "metadata": {},
   "outputs": [],
   "source": [
    "def init_heq(rho,ux,uy):\n",
    "    '''\n",
    "    Initialisation de la partie hors eq\n",
    "    '''\n",
    "    St = np.zeros((nx,ny,4))\n",
    "    Sij(St,ux,uy)\n",
    "    gheq = np.zeros((nx,ny,9))\n",
    "    hors_eq(gheq,rho,St)\n",
    "    return St,gheq"
   ]
  },
  {
   "cell_type": "code",
   "execution_count": 1,
   "metadata": {},
   "outputs": [],
   "source": [
    "def collision(gcoll,geq,gheq):\n",
    "    '''\n",
    "    Mise a jour de la collision régularisé\n",
    "    '''\n",
    "    gcoll[:,:,:]=..."
   ]
  },
  {
   "cell_type": "markdown",
   "metadata": {},
   "source": [
    "<h1>Travail demandé</h1>\n",
    "\n",
    "En reprenant les mêmes conditions initiales et les mêmes conditions aux limites que dans le TP2 ou 3, implémentez une des deux collisions avancées pour effectuer des calculs pour des plus grand nombre de Reynolds. \n",
    "\n",
    "Comparez vos résultats à ceux obtenus pour la collision BGK."
   ]
  },
  {
   "cell_type": "markdown",
   "metadata": {
    "collapsed": true,
    "slideshow": {
     "slide_type": "slide"
    }
   },
   "source": [
    "# Conclusion\n",
    "\n",
    "Présenter ici la synthèse de votre TP en décrivant les points importants et les principaux résultats. \n"
   ]
  },
  {
   "cell_type": "code",
   "execution_count": 1,
   "metadata": {
    "slideshow": {
     "slide_type": "skip"
    }
   },
   "outputs": [
    {
     "data": {
      "text/html": [
       "<style>\n",
       "html\n",
       "{\n",
       "background-color:#FEFDF2;\n",
       "font-family:\"Ubuntu\",\"Maple\", \"Computer Modern\", sans-serif;\n",
       "}\n",
       "\n",
       "body{\n",
       "background-color:#FEFDF2;\n",
       "}\n",
       "\n",
       "h1{\n",
       "color:#242F7E;\n",
       "font-size: 24pt;\n",
       "}\n",
       "\n",
       "h2{\n",
       "color:#548CFD;\n",
       "font-size: 18pt;\n",
       "}\n",
       "\n",
       "div.cell {\n",
       " /* set cell width to about 80 chars */\n",
       "font-size: 15pt;\n",
       "\n",
       "}\n",
       "\n",
       "</style>\n"
      ],
      "text/plain": [
       "<IPython.core.display.HTML object>"
      ]
     },
     "execution_count": 1,
     "metadata": {},
     "output_type": "execute_result"
    }
   ],
   "source": [
    "from IPython.core.display import HTML\n",
    "style=open('notebooks.css', \"r\").read()\n",
    "HTML(style)"
   ]
  },
  {
   "cell_type": "markdown",
   "metadata": {
    "slideshow": {
     "slide_type": "notes"
    }
   },
   "source": [
    "<a id=\"top\" style=\"float:right;\" href=\"http://dynfluid.ensam.eu/\"><img style=\"height:120px;\" src=\"http://dynfluid.ensam.eu/uas/DYNFLUID/logoPrincipal/Logo-DynFluid-Web.png\"/></a>\n",
    "<a style=\"float:left;\" href=\"http://www.cnam.fr//\"><img style=\"height:120px;\" src=\"https://upload.wikimedia.org/wikipedia/commons/4/45/Logo_ENSTA_Paris.jpg\"></a>\n",
    "<center><a href=\"#top\">Retour en haut de la page</a></center>"
   ]
  }
 ],
 "metadata": {
  "kernelspec": {
   "display_name": "Python 3",
   "language": "python",
   "name": "python3"
  },
  "language_info": {
   "codemirror_mode": {
    "name": "ipython",
    "version": 3
   },
   "file_extension": ".py",
   "mimetype": "text/x-python",
   "name": "python",
   "nbconvert_exporter": "python",
   "pygments_lexer": "ipython3",
   "version": "3.8.5"
  }
 },
 "nbformat": 4,
 "nbformat_minor": 2
}
