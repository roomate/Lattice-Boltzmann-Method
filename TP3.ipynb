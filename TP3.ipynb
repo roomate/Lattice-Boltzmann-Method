{
 "cells": [
  {
   "cell_type": "markdown",
   "metadata": {
    "collapsed": true,
    "slideshow": {
     "slide_type": "slide"
    }
   },
   "source": [
    "<a id=\"top\" style=\"float:right;\" href=\"http://dynfluid.ensam.eu/\"><img style=\"height:120px;\" src=\"http://dynfluid.ensam.eu/uas/DYNFLUID/logoPrincipal/Logo-DynFluid-Web.png\"/></a>\n",
    "<a style=\"float:left;\" href=\"http://www.cnam.fr//\"><img style=\"height:120px;\" src=\"https://upload.wikimedia.org/wikipedia/commons/4/45/Logo_ENSTA_Paris.jpg\"></a>"
   ]
  },
  {
   "cell_type": "markdown",
   "metadata": {
    "slideshow": {
     "slide_type": "fragment"
    }
   },
   "source": [
    "<center>\n",
    "<h3 style=\"color:#888888;\"> <i>--  Introduction à  la méthode de Boltzmann sur Réseau  --</i> </h3>\n",
    "<h1> TP n°3 </h1>\n",
    "<h3> Ecoulement autour d'un cylindre Carré </h3>\n",
    "\n",
    "<h6><a href=\"mailto:simon.marie@lecnam.net\">simon.marie@lecnam.net</a></h6>\n",
    "</center>"
   ]
  },
  {
   "cell_type": "markdown",
   "metadata": {},
   "source": [
    "<h1> Préambule </h1>\n",
    "\n",
    "Le TP doit être rendu sous la forme d'un Notebook jupyter en respectant la nomenclature suivante:\n",
    "<center>\n",
    "<b>TP3_NOM1_NOM2.ipynb</b>\n",
    "</center>\n",
    "\n",
    "Tous les résultats, discussions, analyses, doivent donc être inclus dans le fichier."
   ]
  },
  {
   "cell_type": "code",
   "execution_count": 1,
   "metadata": {
    "slideshow": {
     "slide_type": "skip"
    }
   },
   "outputs": [],
   "source": [
    "import numpy as np\n",
    "import matplotlib.pyplot as plt\n",
    "import time\n",
    "fs=20\n",
    "plt.style.use('seaborn-dark')\n",
    "plt.rc('xtick',labelsize=fs)\n",
    "plt.rc('ytick',labelsize=fs)\n",
    "%matplotlib inline\n",
    "#%matplotlib notebook"
   ]
  },
  {
   "cell_type": "markdown",
   "metadata": {},
   "source": [
    "<h1>Présentation du TP</h1>\n",
    "\n",
    "On se propose dans se TP de simuler numériquement l'écoulement d'un fluide autour d'un cylindre carré à  l'aide d'un code Lattice Boltzmann utilisant le modèle $D2Q9$.\n",
    "\n",
    "<h2>Le modèle D2Q9</h2>\n",
    "\n",
    "Le modèle à 9 vitesses de la méthode de Boltzmann sur réseau assure l'égalité des moments jusqu'à  l'ordre 2 et permet donc la simulation des écoulements visqueux régit par les équations de Navier-Stokes avec une limitation en nombre de Mach.\n",
    "Les paramètres du modéle sont résumés dans le tableau suivant:\n",
    "\n",
    "<table style=\"width:800px;text-align:center;\">\n",
    "<tr><td>$c_\\alpha$</td><td>$\\omega_\\alpha$</td><td>$c_0$</td><td>$\\tau_g$</td></tr>\n",
    "<tr><td>$(0,0)\\\\ (1,0) (0,1) (-1,0) (0,-1)\\\\ (1,1) (-1,1) (-1,-1) (1,-1)$</td><td>$\\dfrac{4}{9},\\\\ \\dfrac{1}{9},\\dfrac{1}{9},\\dfrac{1}{9},\\dfrac{1}{9},\\\\ \\dfrac{1}{36},\\dfrac{1}{36},\\dfrac{1}{36},\\dfrac{1}{36}$</td><td>$\\dfrac{1}{\\sqrt{3}}$</td><td width=30%>$\\dfrac{1}{2}+\\dfrac{\\tilde{\\nu}}{c_0^2}$</td></tr>\n",
    "</table>\n",
    "\n",
    "La fonction d'équilibre du modèle s'écrit:\n",
    "$$\n",
    "\\displaystyle{g_{\\alpha}^{eq}=\\rho\\omega_\\alpha\\left(1+\\dfrac{c_{\\alpha,i}u_i}{c_0^2}+\\dfrac{(c_{\\alpha,i}u_i)^2}{2c_0^4}-\\dfrac{u_i^2}{2c_0^2}\\right)}\n",
    "$$\n",
    "\n",
    "et son algorithme général:\n",
    "$$\n",
    "\\displaystyle{g_{\\alpha}^{coll} = g_{\\alpha}-\\dfrac{1}{\\tau_g}[g_{\\alpha}-g_{\\alpha}^{eq}]\\\\\n",
    "g_{\\alpha}(x,y) = g_{\\alpha}^{coll}(x-c_{\\alpha,x},y-c_{\\alpha,y})}\n",
    "$$\n",
    "\n",
    "Les variables macroscopiques sont calculées à  partir des moments des fonctions de distribution:\n",
    "$$\n",
    "\\rho=\\sum_{\\alpha=1}^9 g_{\\alpha}\n",
    "$$\n",
    "\n",
    "$$\n",
    "\\rho u_x=\\sum_{\\alpha=1}^9 c_{\\alpha,x}g_{\\alpha}\n",
    "$$\n",
    "\n",
    "$$\n",
    "\\rho u_y=\\sum_{\\alpha=1}^9 c_{\\alpha,y}g_{\\alpha}\n",
    "$$\n",
    "\n",
    "\n",
    "<h2>Le cylindre carré</h2>\n",
    "\n",
    "L'écoulement autour d'un cylindre carré est un cas test très utilisé en CFD et en particulier en Lattice Boltzmann car il présente l'avantage d'avoir une géométrie cartésienne simple. Le nombre de Reynolds de cet écoulement est basé sur le coté $D$ du carré:\n",
    "$$\n",
    "Re=\\dfrac{U_0 D}{\\nu}\n",
    "$$\n",
    "\n",
    "<center>\n",
    "<img src=\"https://hpp.education/Lessons/LBM/ENSTA/SquareCylinder.png\" style=\"width:650px;\"/> \n",
    "    <b><i>Figure 1: Géométrie du domaine de calcul</i></b>\n",
    "</center>\n",
    "\n",
    "\n",
    "Au delà  d'une valeur critique $R_e=48$, l'écoulement devient instable et on observe une allée de von Karmann se former, caractérisée par des tourbillons en opposition de phase en aval du cylindre. Pour les faibles nombres de Reynolds ($Re<500$), on peut estimer la distance $\\delta$ moyenne entre les tourbillons: $\\delta\\sim 2.5 D$"
   ]
  },
  {
   "cell_type": "markdown",
   "metadata": {},
   "source": [
    "<h1>Travail demandé</h1>\n",
    "<h2>Définition des paramètres et des fonctions</h2>\n",
    "\n",
    "Pour les paramètres du calcul, on définira tous le domaine à  partir du Rayon du cylindre carré $R$. On prendra un domaine $(L_x, L_y)=(40R,20R)$ de résolution $(n_x,n_y)$ mailles. On placera le cylindre à  8 rayons du bord gauche du domaine (input) et à égale distance des bors hauts et bas. \n",
    "\n",
    "On souhaite réaliser plusieurs simulations en faisant varier le nombre de Reynolds et le type de conditions aux limites. Le nombre de Mach sera fixé à  $M_0=0.3$.\n",
    "\n",
    "<b style=\"color:#0055FA\">1. Completer la cellule suivante à  partir des données fournies et des définition du cours. On commencera par représenter le rayon du cylindre avec 5 mailles.</b>"
   ]
  },
  {
   "cell_type": "code",
   "execution_count": 2,
   "metadata": {},
   "outputs": [],
   "source": [
    "ca= np.array([[0,0],[1,0],[0,1],[-1,0],[0,-1],[1,1],[-1,1],[-1,-1],[1,-1]])\n",
    "w=[4/9,1/9,1/9,1/9,1/9,1/36,1/36,1/36,1/36,1/36]\n",
    "c0=1/np.sqrt(3)\n",
    "\n",
    "# Maillage/Domaine\n",
    "R=5        # rayon du cylindre\n",
    "x0,y0=8*R,10*R # centre du cylindre\n",
    "nx=40*R\n",
    "ny=20*R\n",
    "\n",
    "# Taille de maille:\n",
    "dx=1/(nx)\n",
    "\n",
    "# Vitesse du son réelle à  293K:\n",
    "c0_real=330\n",
    "\n",
    "# Pas de temps:\n",
    "dt=dx/c0_real*c0\n",
    "\n",
    "# Mach:\n",
    "M0=0.3"
   ]
  },
  {
   "cell_type": "markdown",
   "metadata": {},
   "source": [
    "<b style=\"color:#0055FA\">2. Compléter chacune des fonctions suivantes correspondant aux étapes de l'algorithme</b>\n",
    "    \n",
    "<b>Initialisation:</b> Définir la fonction permettant d'initialiser le domaine avec une densité uniforme $\\rho=1$, et une vitesse uniforme $U_0$. Calculer également le paramètre de relaxation $\\tau_g$ en fonction du nombre de Reynolds souhaité:"
   ]
  },
  {
   "cell_type": "code",
   "execution_count": 3,
   "metadata": {},
   "outputs": [],
   "source": [
    "def init(M0,Re):\n",
    "    # Initialisation du domaine\n",
    "    rho = np.ones((ny,nx))\n",
    "    U0 = c0*M0\n",
    "    ux = U0*np.ones((ny,nx))\n",
    "    uy = np.zeros((ny,nx))\n",
    "    nu = U0*(2*R)/Re #La longueur du domaine est unitaire\n",
    "    taug = 1/2 + nu/(c0**2)\n",
    "    geq = np.zeros((ny,nx,9))\n",
    "    for i in range(9):\n",
    "        geq[:,:,i] = w[i]*(1 + ca[i][0]*M0*c0 + 9/2*(ca[i][0]*M0*c0)**2 - 3/2*(M0*c0)**2)\n",
    "    return geq,rho,ux,uy,taug,U0 "
   ]
  },
  {
   "cell_type": "markdown",
   "metadata": {},
   "source": [
    "<b>Equilibre:</b>  Dans ce TP nous avons besoin de calculer explicitement les fonctions de distribution à  l'équilibre. Définir la fonction permettant la mise à  jour de ces distributions en fonction des moments $\\rho$, $u_x$ et $u_y$."
   ]
  },
  {
   "cell_type": "code",
   "execution_count": 4,
   "metadata": {},
   "outputs": [],
   "source": [
    "def eq(rho,ux,uy,geq):\n",
    "    # Mise à  jour de geq\n",
    "    for i in range(9):\n",
    "        geq[:,:,i] = w[i] * rho[:,:]*(1 + 3*(ca[i][0]*ux[:,:] + ca[i][1]*uy[:,:]) + 9/2*(ca[i][0]*ux[:,:] + ca[i][1]*uy[:,:])**2 - 3/2*(ux[:,:]**2 + uy[:,:]**2))\n"
   ]
  },
  {
   "cell_type": "markdown",
   "metadata": {},
   "source": [
    "<b>Collision:</b>  Ecrire simplement l'étape de collision:"
   ]
  },
  {
   "cell_type": "code",
   "execution_count": 5,
   "metadata": {},
   "outputs": [],
   "source": [
    "def collide(gcoll,g,taug):\n",
    "    # Etape de collision\n",
    "    for i in range(9):\n",
    "        gcoll[:,:,i] = g[:,:,i] - 1/taug*(g[:,:,i] - geq[:,:,i])"
   ]
  },
  {
   "cell_type": "markdown",
   "metadata": {},
   "source": [
    "<b>Propagation:</b> Pour cette étape on pourra utiliser du slicing plutôt qu'une boucle sur l'espace."
   ]
  },
  {
   "cell_type": "code",
   "execution_count": 6,
   "metadata": {},
   "outputs": [],
   "source": [
    "def propagate(g,gcoll):\n",
    "    # Etape de propagation\n",
    "    g[:,:,0] = gcoll[:,:,0]\n",
    "    g[:,1:,1] = gcoll[:,:-1,1]\n",
    "    g[1:,:,2] = gcoll[:-1,:,2]\n",
    "    g[:,:-1,3] = gcoll[:,1:,3]\n",
    "    g[:-1,:,4] = gcoll[1:,:,4]\n",
    "    g[1:,1:,5] = gcoll[:-1,:-1,5]\n",
    "    g[1:,:-1,6] = gcoll[:-1,1:,6]\n",
    "    g[:-1,:-1,7] = gcoll[1:,1:,7]\n",
    "    g[:-1,1:,8] = gcoll[1:,:-1,8]"
   ]
  },
  {
   "cell_type": "markdown",
   "metadata": {},
   "source": [
    "<b>Calcul des moments:</b> Calcul les variables macroscopiques $\\rho$,$u_x$,$u_y$"
   ]
  },
  {
   "cell_type": "code",
   "execution_count": 7,
   "metadata": {},
   "outputs": [],
   "source": [
    "def macro(g,rho,ux,uy):\n",
    "    # calcul des variables macro\n",
    "    rho[:,:] = g[:,:,0] + g[:,:,1] + g[:,:,2] + g[:,:,3] + g[:,:,4] + g[:,:,5] + g[:,:,6] + g[:,:,7] + g[:,:,8]\n",
    "    ux[:,:] = (g[:,:,1] - g[:,:,3] + g[:,:,5] - g[:,:,6] - g[:,:,7] + g[:,:,8])/rho[:,:]\n",
    "    uy[:,:] = (g[:,:,2] - g[:,:,4] + g[:,:,5] + g[:,:,6] - g[:,:,7] - g[:,:,8])/rho[:,:]"
   ]
  },
  {
   "cell_type": "markdown",
   "metadata": {},
   "source": [
    "<b>Condition aux limites solide:</b> Définir la fonction permettant de mettre à jour les distributions inconnues sur les parois solides. On distinguera dans ce TP la version avec frotement et la version sans frottement."
   ]
  },
  {
   "cell_type": "code",
   "execution_count": 8,
   "metadata": {},
   "outputs": [],
   "source": [
    "def wall_slip(gcoll,g,mask):\n",
    "    # Paroi solide sur le cylindre: Bounce back avec frottement\n",
    "    g[mask==1,1] = gcoll[mask==1,3]\n",
    "    g[mask==1,2] = gcoll[mask==1,4]\n",
    "    g[mask==1,3] = gcoll[mask==1,1]\n",
    "    g[mask==1,4] = gcoll[mask==1,2]\n",
    "    g[mask==1,5] = gcoll[mask==1,7]\n",
    "    g[mask==1,6] = gcoll[mask==1,8]\n",
    "    g[mask==1,7] = gcoll[mask==1,5]\n",
    "    g[mask==1,8] = gcoll[mask==1,6]\n",
    "    "
   ]
  },
  {
   "cell_type": "code",
   "execution_count": 9,
   "metadata": {},
   "outputs": [],
   "source": [
    "def wall_noslip(gcoll,g,mask):\n",
    "    # Paroi solide sur le cylindre: Bounce back sans frottement\n",
    "    #Face supérieur\n",
    "    g[y0 - R,x0 - R : x0 + R + 1,4] = gcoll[y0 - R,x0 - R : x0 + R + 1,2]\n",
    "    g[y0 - R,x0 - R : x0 + R + 1,8] = gcoll[y0 - R,x0 - R : x0 + R + 1,5]\n",
    "    g[y0 - R,x0 - R : x0 + R + 1,7] = gcoll[y0 - R,x0 - R : x0 + R + 1,6]\n",
    "    \n",
    "    #Face inférieur\n",
    "    g[y0 + R,x0 - R : x0 + R + 1,2] = gcoll[y0 + R,x0 - R : x0 + R + 1,4]\n",
    "    g[y0 + R,x0 - R : x0 + R + 1,5] = gcoll[y0 + R,x0 - R : x0 + R + 1,8]\n",
    "    g[y0 + R,x0 - R : x0 + R + 1,6] = gcoll[y0 + R,x0 - R : x0 + R + 1,7]\n",
    "    \n",
    "    #Face droite\n",
    "    g[y0 - R : y0 + R + 1,x0 + R,1] = gcoll[y0 - R : y0 + R + 1,x0 + R,3]\n",
    "    g[y0 - R : y0 + R + 1,x0 + R,5] = gcoll[y0 - R : y0 + R + 1,x0 + R,6]\n",
    "    g[y0 - R : y0 + R + 1,x0 + R,8] = gcoll[y0 - R : y0 + R + 1,x0 + R,7]\n",
    "    \n",
    "    #Face gauche\n",
    "    g[y0 - R : y0 + R + 1,x0 - R,3] = gcoll[y0 - R : y0 + R + 1,x0 - R,1]\n",
    "    g[y0 - R : y0 + R + 1,x0 - R,7] = gcoll[y0 - R : y0 + R + 1,x0 - R,8]\n",
    "    g[y0 - R : y0 + R + 1,x0 - R,6] = gcoll[y0 - R : y0 + R + 1,x0 - R,5]\n",
    "    \n",
    "#    ----------------------------------------------------------------------\n"
   ]
  },
  {
   "cell_type": "markdown",
   "metadata": {
    "slideshow": {
     "slide_type": "slide"
    }
   },
   "source": [
    "<b>Condition aux limites fluide:</b> Définir la fonction permettant de mettre à jour les moments $u_x, \\rho_{in}$ et les distributions inconnues à  l'entrée du domaine. On utilisera les approches vues dans le cours pour le bounce-back hors équilibre (NEBB):\n",
    "\n",
    "$$\n",
    "g_\\alpha-g_{\\alpha}^{eq}=g_\\overline{\\alpha}-g_\\overline{\\alpha}^{eq}\n",
    "$$\n",
    "\n",
    "Ici $\\overline{\\alpha}$ désigne la vitesse opposée à  la vitesse $\\alpha$.\n",
    "\n",
    "Exprimer la densité en entrée $\\rho_{in}$ en fonction des distributions connues et de la vitesse $U_0$\n",
    "\n",
    "___\n",
    "$\\rho_{in}=\\dfrac{1}{1 - U_{0}}(\\displaystyle{2\\sum g_{\\alpha_{k}}  + \\sum g_{\\alpha_{t}}})$, où les $\\alpha_{k}$ désignent les coefficients dont les vitesses $c_{\\alpha_{k}}$ sont dans le sens opposé à $\\vec{U_{0}}$ et $c_{\\alpha_{t}}$ les coefficients perpendiculaires à ce vecteur.\n",
    "\n",
    "$\\rho_{in}=\\dfrac{1}{1 - U_{0}}(g_{0} + g_{2} + g_{4} + 2(g_{3} + g_{6} + g_{7})$\n",
    "___\n",
    "\n",
    "En identifiant les distributions inconnues en entrée, simplifier l'expression ci-dessus en fonction des moments connu sur le bord supérieur:\n",
    "\n",
    "___\n",
    "$g_\\alpha = g_{\\alpha}^{eq} + g_\\overline{\\alpha}-g_\\overline{\\alpha}^{eq}$ \n",
    "\n",
    "$g_\\alpha = \\rho\\omega_\\alpha\\left(1+\\dfrac{c_{\\alpha,i}u_i}{c_0^2}+\\dfrac{(c_{\\alpha,i}u_i)^2}{2c_0^4}-\\dfrac{u_i^2}{2c_0^2}\\right) +  g_\\overline{\\alpha} - \\rho\\omega_\\overline{\\alpha}\\left(1+\\dfrac{c_{\\overline{\\alpha},i}u_i}{c_0^2}+\\dfrac{(c_{\\overline{\\alpha},i}u_i)^2}{2c_0^4}-\\dfrac{u_i^2}{2c_0^2}\\right)$ \n",
    "\\\n",
    "Or, $\\omega_{\\alpha} = \\omega_{\\overline{\\alpha}}$ et $c_{\\overline{\\alpha}} = - c_{\\alpha}$\n",
    "\\\n",
    "$g_\\alpha = g_\\overline{\\alpha} + 2\\rho\\omega_{\\alpha}\\dfrac{c_{\\alpha,i}u_{i}}{c_{0}^{2}}$ \n",
    "\n",
    "Donc \n",
    "$g_1 = g_3 + 2/3U_0\\rho$\n",
    "\n",
    "$g_5 = g_7 + 1/6(U_0 + u_y)\\rho$\n",
    "\n",
    "$g_8 = g_6 + 1/6(U_0 - u_y)\\rho$\n",
    "___\n",
    "\n",
    "\n"
   ]
  },
  {
   "cell_type": "code",
   "execution_count": 10,
   "metadata": {},
   "outputs": [],
   "source": [
    "def inflow(g,rho,ux,uy,M0):\n",
    "    # Conditions de vitesse au bord superieur\n",
    "    U0 = M0*c0\n",
    "    ux[:,0]= U0\n",
    "    # Macro: On impose ux et on en déduit rho_in\n",
    "    rho[:,0] = 1/(1-U0)*(2*(g[:,0,3] + g[:,0,7] + g[:,0,6]) + g[:,0,2] + g[:,0,4] + g[:,0,0])\n",
    "    \n",
    "    # Distributions: On impose les distributions inconnues avec le Bounce-Back hors equilibre \n",
    "    g[:,0,1] = g[:,0,3] + 2/3*U0*rho[:,0]\n",
    "    g[:,0,5] = g[:,0,7] + 1/6*(U0 + uy[:,0])*rho[:,0]\n",
    "    g[:,0,8] = g[:,0,6] + 1/6*(U0 - uy[:,0])*rho[:,0]"
   ]
  },
  {
   "cell_type": "markdown",
   "metadata": {},
   "source": [
    "<b>Condition aux limites en sortie:</b> Pour les fonctions de distributions inconnues en sortie, on imposera une condition de gradient nul:\n",
    "\n",
    "$$\n",
    "\\dfrac{\\partial g_\\alpha}{\\partial x_n}=0\n",
    "$$\n",
    "\n",
    "Ou $x_n$ désigne ici la normale à la paroi concernée."
   ]
  },
  {
   "cell_type": "code",
   "execution_count": 11,
   "metadata": {},
   "outputs": [],
   "source": [
    "def outflow(g,gcoll):\n",
    "    # Conditions de gradient nul\n",
    "    # Out\n",
    "    g[:,-1,3] = g[:,-2,3]\n",
    "    g[:,-1,6] = g[:,-2,6]\n",
    "    g[:,-1,7] = g[:,-2,7]\n",
    "    # Top\n",
    "    g[-1,:,7] = g[-2,:,7]\n",
    "    g[-1,:,4] = g[-2,:,4]\n",
    "    g[-1,:,8] = g[-2,:,8]\n",
    "    # Bottom\n",
    "    g[0,:,2] = g[1,:,2]\n",
    "    g[0,:,6] = g[1,:,6]\n",
    "    g[0,:,5] = g[1,:,5]"
   ]
  },
  {
   "cell_type": "markdown",
   "metadata": {},
   "source": [
    "<h2>Calcul</h2>\n",
    "\n",
    "<b style=\"color:#0055FA\">3. Une fois les paramètres et les fonctions définis, fixer le nombre de Reynolds (on commencera par $Re=20$), initialiser les distributions à leur valeur d'équilibre puis définir les mailles concernées par une condition aux limites solide.</b> Pour cela on pourra utiliser une variable de type *mask* de la même taille que le domaine et valant 0 pour une maille fluide et 1 pour une maille solide. "
   ]
  },
  {
   "cell_type": "code",
   "execution_count": 12,
   "metadata": {},
   "outputs": [],
   "source": [
    "# Nombre de Reynolds:\n",
    "Re = 10\n",
    "\n",
    "# initialisation:\n",
    "geq,rho,ux,uy,taug,U0=init(M0,Re)\n",
    "g,gcoll=geq.copy(),geq.copy()\n",
    "\n",
    "# Marquage des conditions aux limites: \n",
    "# Fluide: mask=0\n",
    "# Solide: mask=1\n",
    "mask=np.zeros((ny,nx));\n",
    "mask[y0 - R:y0 + R + 1,x0 - R] = 1\n",
    "mask[y0 - R : y0 + R + 1,x0 + R] = 1\n",
    "mask[y0 - R, x0 - R: x0 + R + 1] = 1\n",
    "mask[y0 + R + 1, x0 - R: x0 + R + 1] = 1\n"
   ]
  },
  {
   "cell_type": "markdown",
   "metadata": {},
   "source": [
    "<b style=\"color:#0055FA\">4. Definir une fonction permettant le calcul du coefficient de trainée du cylindre  $C_d$: </b> \n",
    "\n",
    "La force de trainée s'exprime:\n",
    "\n",
    "$$\n",
    "F_d=\\dfrac{1}{2}\\rho U_0^2 S_{ref} C_d = \\int_{wall}p dS_x\n",
    "$$\n",
    "\n",
    "Ou $dS_x$ est un élément de surface projeté sur l'axe x.\n",
    "\n",
    "Montrer que l'on peut donc approximer dans le cas du carré:\n",
    "$$\n",
    "C_d \\sim \\dfrac{c_0^2}{p_{dyn} S_{ref}} \\left(\\sum_{w+}\\rho - \\sum_{w-}\\rho  \\right )\n",
    "$$\n",
    "\n",
    "Ou $w_+$ et $w_-$ représentent les 2 faces avant et arrière du cylindre."
   ]
  },
  {
   "cell_type": "code",
   "execution_count": 13,
   "metadata": {},
   "outputs": [],
   "source": [
    "def dragcoeff(rho,mask,M0):\n",
    "    Sref = 2*R\n",
    "    pdyn = 1/2*(M0*c0)**2\n",
    "    rho_plus = np.sum(rho[x0 - R : x0 + R + 1 ,y0 + R])\n",
    "    rho_moins = np.sum(rho[x0 - R: x0 + R + 1, y0 - R])\n",
    "    return c0**2/(pdyn*Sref)*(rho_plus - rho_moins)"
   ]
  },
  {
   "cell_type": "markdown",
   "metadata": {},
   "source": [
    "<b style=\"color:#0055FA\">5. Réaliser une boucle temporelle de 5000 itérations permettant l'enregistrement du coefficient de trainée en fonction du temps."
   ]
  },
  {
   "cell_type": "code",
   "execution_count": 18,
   "metadata": {
    "scrolled": true,
    "slideshow": {
     "slide_type": "slide"
    }
   },
   "outputs": [
    {
     "name": "stdout",
     "output_type": "stream",
     "text": [
      "5000 itérations en 53.41217350959778s: Performances: 1.872232366316842  MLUPS\n"
     ]
    }
   ],
   "source": [
    "nt=5000\n",
    "Cd=np.zeros(nt)\n",
    "start=time.time()\n",
    "# Nombre de Reynolds:\n",
    "Re = 200\n",
    "\n",
    "# initialisation:\n",
    "geq,rho,ux,uy,taug,U0=init(M0,Re)\n",
    "g,gcoll=geq.copy(),geq.copy()\n",
    "\n",
    "for it in np.arange(nt):\n",
    "    collide(gcoll,g,taug)\n",
    "    propagate(g,gcoll)\n",
    "    wall_slip(gcoll,g,mask)\n",
    "    inflow(g,rho,ux,uy,M0)\n",
    "    outflow(g,gcoll)\n",
    "    macro(g,rho,ux,uy)\n",
    "    eq(rho,ux,uy,geq)\n",
    "    Cd[it] = dragcoeff(rho,mask,M0)\n",
    "tcal=time.time()-start\n",
    "mlups=nx*ny*1e-6*nt/tcal\n",
    "print(str(nt)+\" itérations en \"+str(tcal)+\"s: Performances: \"+str(mlups)+\"  MLUPS\")"
   ]
  },
  {
   "cell_type": "code",
   "execution_count": 15,
   "metadata": {},
   "outputs": [
    {
     "ename": "StatisticsError",
     "evalue": "mean requires at least one data point",
     "output_type": "error",
     "traceback": [
      "\u001b[1;31m---------------------------------------------------------------------------\u001b[0m",
      "\u001b[1;31mStatisticsError\u001b[0m                           Traceback (most recent call last)",
      "\u001b[1;32m<ipython-input-15-386711b4f5be>\u001b[0m in \u001b[0;36m<module>\u001b[1;34m\u001b[0m\n\u001b[0;32m      2\u001b[0m \u001b[0mplt\u001b[0m\u001b[1;33m.\u001b[0m\u001b[0mplot\u001b[0m\u001b[1;33m(\u001b[0m\u001b[0mCd\u001b[0m\u001b[1;33m)\u001b[0m\u001b[1;33m\u001b[0m\u001b[1;33m\u001b[0m\u001b[0m\n\u001b[0;32m      3\u001b[0m \u001b[0mplt\u001b[0m\u001b[1;33m.\u001b[0m\u001b[0mylim\u001b[0m\u001b[1;33m(\u001b[0m\u001b[1;36m0.5\u001b[0m\u001b[1;33m,\u001b[0m\u001b[1;36m1.5\u001b[0m\u001b[1;33m)\u001b[0m\u001b[1;33m\u001b[0m\u001b[1;33m\u001b[0m\u001b[0m\n\u001b[1;32m----> 4\u001b[1;33m \u001b[0mmean\u001b[0m \u001b[1;33m=\u001b[0m \u001b[0mstatistics\u001b[0m\u001b[1;33m.\u001b[0m\u001b[0mmean\u001b[0m\u001b[1;33m(\u001b[0m\u001b[0mCd\u001b[0m\u001b[1;33m[\u001b[0m\u001b[1;36m2000\u001b[0m\u001b[1;33m:\u001b[0m\u001b[1;33m]\u001b[0m\u001b[1;33m)\u001b[0m\u001b[1;33m;\u001b[0m\u001b[0mprint\u001b[0m\u001b[1;33m(\u001b[0m\u001b[0mmean\u001b[0m\u001b[1;33m)\u001b[0m\u001b[1;33m\u001b[0m\u001b[1;33m\u001b[0m\u001b[0m\n\u001b[0m",
      "\u001b[1;32m~\\anaconda3\\lib\\statistics.py\u001b[0m in \u001b[0;36mmean\u001b[1;34m(data)\u001b[0m\n\u001b[0;32m    313\u001b[0m     \u001b[0mn\u001b[0m \u001b[1;33m=\u001b[0m \u001b[0mlen\u001b[0m\u001b[1;33m(\u001b[0m\u001b[0mdata\u001b[0m\u001b[1;33m)\u001b[0m\u001b[1;33m\u001b[0m\u001b[1;33m\u001b[0m\u001b[0m\n\u001b[0;32m    314\u001b[0m     \u001b[1;32mif\u001b[0m \u001b[0mn\u001b[0m \u001b[1;33m<\u001b[0m \u001b[1;36m1\u001b[0m\u001b[1;33m:\u001b[0m\u001b[1;33m\u001b[0m\u001b[1;33m\u001b[0m\u001b[0m\n\u001b[1;32m--> 315\u001b[1;33m         \u001b[1;32mraise\u001b[0m \u001b[0mStatisticsError\u001b[0m\u001b[1;33m(\u001b[0m\u001b[1;34m'mean requires at least one data point'\u001b[0m\u001b[1;33m)\u001b[0m\u001b[1;33m\u001b[0m\u001b[1;33m\u001b[0m\u001b[0m\n\u001b[0m\u001b[0;32m    316\u001b[0m     \u001b[0mT\u001b[0m\u001b[1;33m,\u001b[0m \u001b[0mtotal\u001b[0m\u001b[1;33m,\u001b[0m \u001b[0mcount\u001b[0m \u001b[1;33m=\u001b[0m \u001b[0m_sum\u001b[0m\u001b[1;33m(\u001b[0m\u001b[0mdata\u001b[0m\u001b[1;33m)\u001b[0m\u001b[1;33m\u001b[0m\u001b[1;33m\u001b[0m\u001b[0m\n\u001b[0;32m    317\u001b[0m     \u001b[1;32massert\u001b[0m \u001b[0mcount\u001b[0m \u001b[1;33m==\u001b[0m \u001b[0mn\u001b[0m\u001b[1;33m\u001b[0m\u001b[1;33m\u001b[0m\u001b[0m\n",
      "\u001b[1;31mStatisticsError\u001b[0m: mean requires at least one data point"
     ]
    },
    {
     "data": {
      "image/png": "[encoded data removed]",
      "text/plain": [
       "<Figure size 432x288 with 1 Axes>"
      ]
     },
     "metadata": {
      "needs_background": "light"
     },
     "output_type": "display_data"
    }
   ],
   "source": [
    "import statistics\n",
    "plt.plot(Cd)\n",
    "plt.ylim(0.5,1.5)\n",
    "mean = statistics.mean(Cd[2000:]);print(mean)"
   ]
  },
  {
   "cell_type": "markdown",
   "metadata": {},
   "source": [
    "<h2>Analyse des résultats</h2>\n",
    "\n",
    "<b style=\"color:#0055FA\">6. Tracer la vorticité $\\Omega$ à l'issu du calcul</b>\n",
    "\n",
    "On rappelle: \n",
    "\n",
    "$$\n",
    "\\Omega=\\mathbf{\\nabla} \\wedge \\mathbf{u}\n",
    "$$\n",
    "\n",
    "On représentera ici uniquement la composante $\\Omega_z$"
   ]
  },
  {
   "cell_type": "code",
   "execution_count": 19,
   "metadata": {},
   "outputs": [],
   "source": [
    "OmegaZ=np.zeros((ny,nx))\n",
    "for i in range(ny-1):\n",
    "    for j in range(nx-1):\n",
    "        OmegaZ[i,j]= (uy[i,j + 1] - uy[i,j])/dx - (ux[i+1,j] - uy[i,j])/dx"
   ]
  },
  {
   "cell_type": "markdown",
   "metadata": {},
   "source": [
    "**Commentaires**\n",
    "\n",
    "___\n",
    "\n",
    "\n",
    "___"
   ]
  },
  {
   "cell_type": "markdown",
   "metadata": {},
   "source": [
    "<b style=\"color:#0055FA\">7. Tracer l'évolution temporelle du coefficient de trainée en fonction du temps. En déduire le nombre de Strouhal des oscillations observées.</b>\n",
    "\n",
    "$$\n",
    "S_t=\\dfrac{f D}{U_0}\n",
    "$$"
   ]
  },
  {
   "cell_type": "code",
   "execution_count": 20,
   "metadata": {},
   "outputs": [
    {
     "data": {
      "text/plain": [
       "(0.0, 200.0, 0.0, 100.0)"
      ]
     },
     "execution_count": 20,
     "metadata": {},
     "output_type": "execute_result"
    },
    {
     "data": {
      "image/png": "[encoded data removed]",
      "text/plain": [
       "<Figure size 432x288 with 2 Axes>"
      ]
     },
     "metadata": {
      "needs_background": "light"
     },
     "output_type": "display_data"
    }
   ],
   "source": [
    "#fig=plt.figure(1,figsize(10,6))\n",
    "#ax = fig.add_subplot(111)\n",
    "#im=ax.imshow(vort.T, cmap = 'RdBu_r', animated = True, vmin = -0.1, )\n",
    "#plt.show()\n",
    "plt.pcolormesh(OmegaZ)\n",
    "plt.colorbar()\n",
    "plt.axis('equal')"
   ]
  },
  {
   "cell_type": "code",
   "execution_count": 226,
   "metadata": {},
   "outputs": [
    {
     "name": "stdout",
     "output_type": "stream",
     "text": [
      "0.14433756729740643\n"
     ]
    }
   ],
   "source": [
    "f = 15/(6000*dt)\n",
    "St = f*2*R*dx/(M0*c0_real)\n",
    "print(St)"
   ]
  },
  {
   "cell_type": "markdown",
   "metadata": {},
   "source": [
    "<b style=\"color:#0055FA\">8. Etudier l'évolution de ce résultat avec la résolution (nombre de maille le long du cylindre)."
   ]
  },
  {
   "cell_type": "markdown",
   "metadata": {},
   "source": [
    "**Commentaires**\n",
    "\n",
    "___\n",
    "\n",
    "\n",
    "___"
   ]
  },
  {
   "cell_type": "markdown",
   "metadata": {},
   "source": [
    "<b style=\"color:#0055FA\">9. Compléter le tableau suivant en faisant varier le Reynolds et la résolution si besoin."
   ]
  },
  {
   "cell_type": "markdown",
   "metadata": {},
   "source": [
    "Résultats:\n",
    "\n",
    "| Re  |$C_d$| $S_t$ |\n",
    "| --- | --- | --- |\n",
    "| 20  | 0.9 | 0 |\n",
    "| 50  | 0.95 | 0 |\n",
    "| 80  | 0.947 | 0.14433 |\n",
    "| 100 | 0.950 | 0.16358 |\n",
    "| 200 | 0.882 | 0.19245 |\n",
    "| $Ref_{200}$| 1.41 | 0.16 |"
   ]
  },
  {
   "cell_type": "markdown",
   "metadata": {},
   "source": [
    "**Commentaires**\n",
    "\n",
    "___\n",
    "\n",
    "\n",
    "___"
   ]
  },
  {
   "cell_type": "markdown",
   "metadata": {
    "collapsed": true,
    "slideshow": {
     "slide_type": "slide"
    }
   },
   "source": [
    "# Conclusion\n",
    "\n",
    "PrÃ©senter ici la synthÃ¨se de votre TP en dÃ©crivant les points importants et les principaux rÃ©sultats. \n"
   ]
  },
  {
   "cell_type": "code",
   "execution_count": 20,
   "metadata": {
    "slideshow": {
     "slide_type": "skip"
    }
   },
   "outputs": [
    {
     "ename": "FileNotFoundError",
     "evalue": "[Errno 2] No such file or directory: 'notebooks.css'",
     "output_type": "error",
     "traceback": [
      "\u001b[1;31m---------------------------------------------------------------------------\u001b[0m",
      "\u001b[1;31mFileNotFoundError\u001b[0m                         Traceback (most recent call last)",
      "\u001b[1;32m<ipython-input-20-123ca43c71ea>\u001b[0m in \u001b[0;36m<module>\u001b[1;34m\u001b[0m\n\u001b[0;32m      1\u001b[0m \u001b[1;32mfrom\u001b[0m \u001b[0mIPython\u001b[0m\u001b[1;33m.\u001b[0m\u001b[0mcore\u001b[0m\u001b[1;33m.\u001b[0m\u001b[0mdisplay\u001b[0m \u001b[1;32mimport\u001b[0m \u001b[0mHTML\u001b[0m\u001b[1;33m\u001b[0m\u001b[1;33m\u001b[0m\u001b[0m\n\u001b[1;32m----> 2\u001b[1;33m \u001b[0mstyle\u001b[0m\u001b[1;33m=\u001b[0m\u001b[0mopen\u001b[0m\u001b[1;33m(\u001b[0m\u001b[1;34m'notebooks.css'\u001b[0m\u001b[1;33m,\u001b[0m \u001b[1;34m\"r\"\u001b[0m\u001b[1;33m)\u001b[0m\u001b[1;33m.\u001b[0m\u001b[0mread\u001b[0m\u001b[1;33m(\u001b[0m\u001b[1;33m)\u001b[0m\u001b[1;33m\u001b[0m\u001b[1;33m\u001b[0m\u001b[0m\n\u001b[0m\u001b[0;32m      3\u001b[0m \u001b[0mHTML\u001b[0m\u001b[1;33m(\u001b[0m\u001b[0mstyle\u001b[0m\u001b[1;33m)\u001b[0m\u001b[1;33m\u001b[0m\u001b[1;33m\u001b[0m\u001b[0m\n",
      "\u001b[1;31mFileNotFoundError\u001b[0m: [Errno 2] No such file or directory: 'notebooks.css'"
     ]
    }
   ],
   "source": [
    "from IPython.core.display import HTML\n",
    "style=open('notebooks.css', \"r\").read()\n",
    "HTML(style)"
   ]
  },
  {
   "cell_type": "markdown",
   "metadata": {
    "slideshow": {
     "slide_type": "notes"
    }
   },
   "source": [
    "<a id=\"top\" style=\"float:right;\" href=\"http://dynfluid.ensam.eu/\"><img style=\"height:120px;\" src=\"http://dynfluid.ensam.eu/uas/DYNFLUID/logoPrincipal/Logo-DynFluid-Web.png\"/></a>\n",
    "<a style=\"float:left;\" href=\"http://www.cnam.fr//\"><img style=\"height:120px;\" src=\"https://upload.wikimedia.org/wikipedia/commons/4/45/Logo_ENSTA_Paris.jpg\"></a>\n",
    "<center><a href=\"#top\">Retour en haut de la page</a></center>"
   ]
  }
 ],
 "metadata": {
  "kernelspec": {
   "display_name": "Python 3",
   "language": "python",
   "name": "python3"
  },
  "language_info": {
   "codemirror_mode": {
    "name": "ipython",
    "version": 3
   },
   "file_extension": ".py",
   "mimetype": "text/x-python",
   "name": "python",
   "nbconvert_exporter": "python",
   "pygments_lexer": "ipython3",
   "version": "3.8.5"
  }
 },
 "nbformat": 4,
 "nbformat_minor": 2
}
